{
 "cells": [
  {
   "cell_type": "markdown",
   "metadata": {},
   "source": [
    "### This notebook will be used to fulfill the IBM Certification Coursera Capstone"
   ]
  },
  {
   "cell_type": "code",
   "execution_count": 1,
   "metadata": {},
   "outputs": [],
   "source": [
    "import pandas as pd\n",
    "import numpy as np"
   ]
  },
  {
   "cell_type": "code",
   "execution_count": 2,
   "metadata": {
    "scrolled": true
   },
   "outputs": [
    {
     "name": "stdout",
     "output_type": "stream",
     "text": [
      "Hello Capstone Project Course!\n"
     ]
    }
   ],
   "source": [
    "print(\"Hello Capstone Project Course!\")"
   ]
  },
  {
   "cell_type": "markdown",
   "metadata": {},
   "source": [
    "### Introduction\n",
    "\n",
    "Road transportation, while convenient, gives rise to road accidents with varying severity. According to The Organisation for Economic Co-operation and Development (OECD), in 2017, the United States registered 1.923 million road accidents involving casualties. These accidents may happen for several reasons either pertaining to the driver, the vehicle(s), and/or weather conditions. While the most notable repercussions of road accidents are fatal and non-fatal injuries to the people involved, as well as the wrecking of the vehicle(s), traffic congestions also occur as a result. The extent of these three consequences depends on the severity of the accident. Therefore, predicting the severity of an accident may facilitate estimation of the human and material harm or losses, help emergency responders provide care effectively and efficiently, thus also reducing traffic congestions."
   ]
  },
  {
   "cell_type": "markdown",
   "metadata": {},
   "source": [
    "### Data Description\n",
    "\n",
    "The raw data set employed was downloaded from Kaggle, a data science website hosting open source data sets. The data set contains 3.5 million records of countrywide road accidents in the United States, and 47 attributes (excluding the identification column and the road severity label column). The observations cover about 49 states and span a period from February 2016 to June 2020. The data was collected from sources such as traffic cameras, traffic sensors, law enforcement agencies, and the US Department of Transportation.\n",
    "\n",
    "In our methodology, we will first perform an exploratory data analysis (e.g. feature engineering, correlation, patterns, etc.) to better understand the data set at hand. Then we will delve into cleaning and preprocessing our data set to prepare it for the modeling phase. This step includes dealing with missing data points, balancing our labeled data, and splitting our data into training and testing chunks. Next, since we are dealing with a labeled categorical target (i.e. supervised learning), we will experiment with various classification algorithms and evaluate their performance using metrics such as Jaccard Index, F1-Score, and Log Loss."
   ]
  }
 ],
 "metadata": {
  "kernelspec": {
   "display_name": "Python 3",
   "language": "python",
   "name": "python3"
  },
  "language_info": {
   "codemirror_mode": {
    "name": "ipython",
    "version": 3
   },
   "file_extension": ".py",
   "mimetype": "text/x-python",
   "name": "python",
   "nbconvert_exporter": "python",
   "pygments_lexer": "ipython3",
   "version": "3.7.4"
  }
 },
 "nbformat": 4,
 "nbformat_minor": 2
}
